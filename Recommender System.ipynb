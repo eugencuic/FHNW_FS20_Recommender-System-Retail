{
 "cells": [
  {
   "cell_type": "code",
   "execution_count": 7,
   "metadata": {},
   "outputs": [
    {
     "data": {
      "text/plain": "' \\nAufgaben die zu erledigen sind:\\n- Product Shelf bereinigen --> schlecht gekaufte Produkte\\n- Produkte empfehlen die noch nicht eingekauft wurden\\n\\n3 mögliche Systeme:\\n- Simple Recommender --> Top Products\\n    - Decide on the metric or score to rate products on\\n    - Calcualte the score for every product\\n    - Sort the products based on the score and output the top results\\n    \\n- Content Based Recommender --> Uses item meta data\\n- Collaborative Recommender --> Products from other user that looks pretty similar\\n\\n\\nProblems:\\nContrarian to rating data, purchase data has no upper band of the evaluated score\\n\\nRessources:\\n- https://medium.com/datadriveninvestor/how-to-build-a-recommendation-system-for-purchase-data-step-by-step-d6d7a78800b6\\n- https://www.datacamp.com/community/tutorials/recommender-systems-python?utm_source=adwords_ppc&utm_campaignid=898687156&utm_adgroupid=48947256715&utm_device=c&utm_keyword=&utm_matchtype=b&utm_network=g&utm_adpostion=1t1&utm_creative=229765585186&utm_targetid=aud-299261629574:dsa-473406569915&utm_loc_interest_ms=&utm_loc_physical_ms=20143&gclid=Cj0KCQiA-bjyBRCcARIsAFboWg2VIh0dOVFJAckISmcG52iT4y1gr732tQkw-i9-Pj2VubR5WXq4IWcaArhsEALw_wcB\\n\\n'"
     },
     "execution_count": 7,
     "metadata": {},
     "output_type": "execute_result"
    }
   ],
   "source": [
    "''' \n",
    "Aufgaben die zu erledigen sind:\n",
    "- Product Shelf bereinigen --> schlecht gekaufte Produkte\n",
    "- Produkte empfehlen die noch nicht eingekauft wurden\n",
    "\n",
    "3 mögliche Systeme:\n",
    "- Simple Recommender --> Top Products\n",
    "    - Decide on the metric or score to rate products on\n",
    "    - Calcualte the score for every product\n",
    "    - Sort the products based on the score and output the top results\n",
    "    \n",
    "- Content Based Recommender --> Uses item meta data\n",
    "- Collaborative Recommender --> Products from other user that looks pretty similar\n",
    "\n",
    "\n",
    "Problems:\n",
    "Contrarian to rating data, purchase data has no upper band of the evaluated score\n",
    "There is no explicit rating data, so it has to be generated from implicit information available\n",
    "\n",
    "Ressources:\n",
    "- https://medium.com/datadriveninvestor/how-to-build-a-recommendation-system-for-purchase-data-step-by-step-d6d7a78800b6\n",
    "- https://www.datacamp.com/community/tutorials/recommender-systems-python?utm_source=adwords_ppc&utm_campaignid=898687156&utm_adgroupid=48947256715&utm_device=c&utm_keyword=&utm_matchtype=b&utm_network=g&utm_adpostion=1t1&utm_creative=229765585186&utm_targetid=aud-299261629574:dsa-473406569915&utm_loc_interest_ms=&utm_loc_physical_ms=20143&gclid=Cj0KCQiA-bjyBRCcARIsAFboWg2VIh0dOVFJAckISmcG52iT4y1gr732tQkw-i9-Pj2VubR5WXq4IWcaArhsEALw_wcB\n",
    "\n",
    "\n",
    "''' "
   ]
  },
  {
   "cell_type": "code",
   "execution_count": 1,
   "metadata": {},
   "outputs": [
    {
     "data": {
      "text/html": "<div>\n<style scoped>\n    .dataframe tbody tr th:only-of-type {\n        vertical-align: middle;\n    }\n\n    .dataframe tbody tr th {\n        vertical-align: top;\n    }\n\n    .dataframe thead th {\n        text-align: right;\n    }\n</style>\n<table border=\"1\" class=\"dataframe\">\n  <thead>\n    <tr style=\"text-align: right;\">\n      <th></th>\n      <th>Unnamed: 0</th>\n      <th>order_id</th>\n      <th>user_id</th>\n      <th>eval_set</th>\n      <th>order_number</th>\n      <th>order_dow</th>\n      <th>order_hour_of_day</th>\n      <th>days_since_prior_order</th>\n      <th>product_id</th>\n      <th>add_to_cart_order</th>\n      <th>reordered</th>\n      <th>product_name</th>\n      <th>aisle_id</th>\n      <th>department_id</th>\n      <th>department</th>\n      <th>aisle</th>\n    </tr>\n  </thead>\n  <tbody>\n    <tr>\n      <th>0</th>\n      <td>1</td>\n      <td>2539329</td>\n      <td>1</td>\n      <td>prior</td>\n      <td>1</td>\n      <td>2</td>\n      <td>8</td>\n      <td>NaN</td>\n      <td>196</td>\n      <td>1</td>\n      <td>0</td>\n      <td>Soda</td>\n      <td>77</td>\n      <td>7</td>\n      <td>beverages</td>\n      <td>soft drinks</td>\n    </tr>\n    <tr>\n      <th>1</th>\n      <td>2</td>\n      <td>2539329</td>\n      <td>1</td>\n      <td>prior</td>\n      <td>1</td>\n      <td>2</td>\n      <td>8</td>\n      <td>NaN</td>\n      <td>14084</td>\n      <td>2</td>\n      <td>0</td>\n      <td>Organic Unsweetened Vanilla Almond Milk</td>\n      <td>91</td>\n      <td>16</td>\n      <td>dairy eggs</td>\n      <td>soy lactosefree</td>\n    </tr>\n    <tr>\n      <th>2</th>\n      <td>3</td>\n      <td>2539329</td>\n      <td>1</td>\n      <td>prior</td>\n      <td>1</td>\n      <td>2</td>\n      <td>8</td>\n      <td>NaN</td>\n      <td>12427</td>\n      <td>3</td>\n      <td>0</td>\n      <td>Original Beef Jerky</td>\n      <td>23</td>\n      <td>19</td>\n      <td>snacks</td>\n      <td>popcorn jerky</td>\n    </tr>\n    <tr>\n      <th>3</th>\n      <td>4</td>\n      <td>2539329</td>\n      <td>1</td>\n      <td>prior</td>\n      <td>1</td>\n      <td>2</td>\n      <td>8</td>\n      <td>NaN</td>\n      <td>26088</td>\n      <td>4</td>\n      <td>0</td>\n      <td>Aged White Cheddar Popcorn</td>\n      <td>23</td>\n      <td>19</td>\n      <td>snacks</td>\n      <td>popcorn jerky</td>\n    </tr>\n    <tr>\n      <th>4</th>\n      <td>5</td>\n      <td>2539329</td>\n      <td>1</td>\n      <td>prior</td>\n      <td>1</td>\n      <td>2</td>\n      <td>8</td>\n      <td>NaN</td>\n      <td>26405</td>\n      <td>5</td>\n      <td>0</td>\n      <td>XL Pick-A-Size Paper Towel Rolls</td>\n      <td>54</td>\n      <td>17</td>\n      <td>household</td>\n      <td>paper goods</td>\n    </tr>\n  </tbody>\n</table>\n</div>",
      "text/plain": "   Unnamed: 0  order_id  user_id eval_set  order_number  order_dow  \\\n0           1   2539329        1    prior             1          2   \n1           2   2539329        1    prior             1          2   \n2           3   2539329        1    prior             1          2   \n3           4   2539329        1    prior             1          2   \n4           5   2539329        1    prior             1          2   \n\n   order_hour_of_day  days_since_prior_order  product_id  add_to_cart_order  \\\n0                  8                     NaN         196                  1   \n1                  8                     NaN       14084                  2   \n2                  8                     NaN       12427                  3   \n3                  8                     NaN       26088                  4   \n4                  8                     NaN       26405                  5   \n\n   reordered                             product_name  aisle_id  \\\n0          0                                     Soda        77   \n1          0  Organic Unsweetened Vanilla Almond Milk        91   \n2          0                      Original Beef Jerky        23   \n3          0               Aged White Cheddar Popcorn        23   \n4          0         XL Pick-A-Size Paper Towel Rolls        54   \n\n   department_id  department            aisle  \n0              7   beverages      soft drinks  \n1             16  dairy eggs  soy lactosefree  \n2             19      snacks    popcorn jerky  \n3             19      snacks    popcorn jerky  \n4             17   household      paper goods  "
     },
     "execution_count": 1,
     "metadata": {},
     "output_type": "execute_result"
    }
   ],
   "source": [
    "import numpy as np\n",
    "import pandas as pd\n",
    "\n",
    "\n",
    "raw_data = pd.read_csv (\"Recommender4Retail.csv\") # low_memory option is depricated\n",
    "raw_data.head()\n"
   ]
  },
  {
   "cell_type": "code",
   "execution_count": 3,
   "metadata": {},
   "outputs": [
    {
     "name": "stdout",
     "output_type": "stream",
     "text": "user_id\n1          70\n2         226\n3          88\n4          18\n5          46\n         ... \n206205     51\n206206    285\n206207    223\n206208    677\n206209    137\nName: product_id, Length: 206209, dtype: int64\nproduct_id\n1        1928\n2          94\n3         283\n4         351\n5          16\n         ... \n49684       9\n49685      49\n49686     127\n49687      14\n49688      93\nName: user_id, Length: 49685, dtype: int64\n"
    }
   ],
   "source": [
    "# Some EDA\n",
    "\n",
    "#raw_data.info()\n",
    "#raw_data.describe()\n",
    "\n",
    "'''\n",
    "- What is eval_set, order_dow, reordered and can they be used to create a rating?\n",
    "- Can the amount a product has been bought, seen as a implicit ratings? There might be some problems to it depending on the product...\n",
    "'''\n",
    "\n",
    "#Unique Users\n",
    "#unique_users = raw_data.drop_duplicates(subset=['user_id'], keep='first')\n",
    "\n",
    "#unique_users = raw_data['user_id'].unique()\n",
    "\n",
    "#unique_users.count()\n",
    "\n",
    "# filter a user\n",
    "user1 = raw_data[(raw_data.user_id == 1)] # data_limited[(data_limited.user_id == 1) & (data_limited.product_id == 196)]\n",
    "\n",
    "# amount of products bought by user\n",
    "n_by_user = raw_data.groupby(\"user_id\")[\"product_id\"].count()\n",
    "print(n_by_user)\n",
    "\n",
    "# number of times a product is bought\n",
    "n_of_products = raw_data.groupby(\"product_id\")[\"user_id\"].count()\n",
    "print(n_of_products)\n"
   ]
  },
  {
   "cell_type": "code",
   "execution_count": 5,
   "metadata": {},
   "outputs": [],
   "source": [
    "# create a matrix with user, product and occurence as value (= number of times purchased)\n",
    "\n",
    "data_limited = raw_data.head(5000) # reduced for testing purposes\n",
    "matrix = pd.crosstab(data_limited.user_id, raw_data.product_id) \n",
    "# if we want precentage add parameter normalize=True\n",
    "\n",
    "# this could alternatively be done by groupby (or pivot_table)\n",
    "matrix_g = data_limited.groupby(['user_id', 'product_id'])['product_id'].count().unstack().fillna(0)\n"
   ]
  },
  {
   "cell_type": "code",
   "execution_count": 11,
   "metadata": {},
   "outputs": [
    {
     "data": {
      "text/plain": "Unnamed: 0                206209\norder_id                  206209\nuser_id                   206209\neval_set                  206209\norder_number              206209\norder_dow                 206209\norder_hour_of_day         206209\ndays_since_prior_order         0\nproduct_id                206209\nadd_to_cart_order         206209\nreordered                 206209\nproduct_name              206209\naisle_id                  206209\ndepartment_id             206209\ndepartment                206209\naisle                     206209\ndtype: int64"
     },
     "execution_count": 11,
     "metadata": {},
     "output_type": "execute_result"
    }
   ],
   "source": [
    "unique_users.count()"
   ]
  },
  {
   "cell_type": "code",
   "execution_count": 9,
   "metadata": {},
   "outputs": [
    {
     "data": {
      "text/html": "<div>\n<style scoped>\n    .dataframe tbody tr th:only-of-type {\n        vertical-align: middle;\n    }\n\n    .dataframe tbody tr th {\n        vertical-align: top;\n    }\n\n    .dataframe thead th {\n        text-align: right;\n    }\n</style>\n<table border=\"1\" class=\"dataframe\">\n  <thead>\n    <tr style=\"text-align: right;\">\n      <th></th>\n      <th>Unnamed: 0</th>\n      <th>order_id</th>\n      <th>user_id</th>\n      <th>eval_set</th>\n      <th>order_number</th>\n      <th>order_dow</th>\n      <th>order_hour_of_day</th>\n      <th>days_since_prior_order</th>\n      <th>product_id</th>\n      <th>add_to_cart_order</th>\n      <th>reordered</th>\n      <th>product_name</th>\n      <th>aisle_id</th>\n      <th>department_id</th>\n      <th>department</th>\n      <th>aisle</th>\n    </tr>\n  </thead>\n  <tbody>\n    <tr>\n      <th>0</th>\n      <td>1</td>\n      <td>2539329</td>\n      <td>1</td>\n      <td>prior</td>\n      <td>1</td>\n      <td>2</td>\n      <td>8</td>\n      <td>NaN</td>\n      <td>196</td>\n      <td>1</td>\n      <td>0</td>\n      <td>Soda</td>\n      <td>77</td>\n      <td>7</td>\n      <td>beverages</td>\n      <td>soft drinks</td>\n    </tr>\n    <tr>\n      <th>5</th>\n      <td>6</td>\n      <td>2398795</td>\n      <td>1</td>\n      <td>prior</td>\n      <td>2</td>\n      <td>3</td>\n      <td>7</td>\n      <td>15.0</td>\n      <td>196</td>\n      <td>1</td>\n      <td>1</td>\n      <td>Soda</td>\n      <td>77</td>\n      <td>7</td>\n      <td>beverages</td>\n      <td>soft drinks</td>\n    </tr>\n    <tr>\n      <th>11</th>\n      <td>12</td>\n      <td>473747</td>\n      <td>1</td>\n      <td>prior</td>\n      <td>3</td>\n      <td>3</td>\n      <td>12</td>\n      <td>21.0</td>\n      <td>196</td>\n      <td>1</td>\n      <td>1</td>\n      <td>Soda</td>\n      <td>77</td>\n      <td>7</td>\n      <td>beverages</td>\n      <td>soft drinks</td>\n    </tr>\n    <tr>\n      <th>16</th>\n      <td>17</td>\n      <td>2254736</td>\n      <td>1</td>\n      <td>prior</td>\n      <td>4</td>\n      <td>4</td>\n      <td>7</td>\n      <td>29.0</td>\n      <td>196</td>\n      <td>1</td>\n      <td>1</td>\n      <td>Soda</td>\n      <td>77</td>\n      <td>7</td>\n      <td>beverages</td>\n      <td>soft drinks</td>\n    </tr>\n    <tr>\n      <th>21</th>\n      <td>22</td>\n      <td>431534</td>\n      <td>1</td>\n      <td>prior</td>\n      <td>5</td>\n      <td>4</td>\n      <td>15</td>\n      <td>28.0</td>\n      <td>196</td>\n      <td>1</td>\n      <td>1</td>\n      <td>Soda</td>\n      <td>77</td>\n      <td>7</td>\n      <td>beverages</td>\n      <td>soft drinks</td>\n    </tr>\n    <tr>\n      <th>29</th>\n      <td>30</td>\n      <td>3367565</td>\n      <td>1</td>\n      <td>prior</td>\n      <td>6</td>\n      <td>2</td>\n      <td>7</td>\n      <td>19.0</td>\n      <td>196</td>\n      <td>1</td>\n      <td>1</td>\n      <td>Soda</td>\n      <td>77</td>\n      <td>7</td>\n      <td>beverages</td>\n      <td>soft drinks</td>\n    </tr>\n    <tr>\n      <th>33</th>\n      <td>34</td>\n      <td>550135</td>\n      <td>1</td>\n      <td>prior</td>\n      <td>7</td>\n      <td>1</td>\n      <td>9</td>\n      <td>20.0</td>\n      <td>196</td>\n      <td>1</td>\n      <td>1</td>\n      <td>Soda</td>\n      <td>77</td>\n      <td>7</td>\n      <td>beverages</td>\n      <td>soft drinks</td>\n    </tr>\n    <tr>\n      <th>39</th>\n      <td>40</td>\n      <td>3108588</td>\n      <td>1</td>\n      <td>prior</td>\n      <td>8</td>\n      <td>1</td>\n      <td>14</td>\n      <td>14.0</td>\n      <td>196</td>\n      <td>2</td>\n      <td>1</td>\n      <td>Soda</td>\n      <td>77</td>\n      <td>7</td>\n      <td>beverages</td>\n      <td>soft drinks</td>\n    </tr>\n    <tr>\n      <th>47</th>\n      <td>48</td>\n      <td>2295261</td>\n      <td>1</td>\n      <td>prior</td>\n      <td>9</td>\n      <td>1</td>\n      <td>16</td>\n      <td>0.0</td>\n      <td>196</td>\n      <td>4</td>\n      <td>1</td>\n      <td>Soda</td>\n      <td>77</td>\n      <td>7</td>\n      <td>beverages</td>\n      <td>soft drinks</td>\n    </tr>\n    <tr>\n      <th>50</th>\n      <td>51</td>\n      <td>2550362</td>\n      <td>1</td>\n      <td>prior</td>\n      <td>10</td>\n      <td>4</td>\n      <td>8</td>\n      <td>30.0</td>\n      <td>196</td>\n      <td>1</td>\n      <td>1</td>\n      <td>Soda</td>\n      <td>77</td>\n      <td>7</td>\n      <td>beverages</td>\n      <td>soft drinks</td>\n    </tr>\n    <tr>\n      <th>59</th>\n      <td>60</td>\n      <td>1187899</td>\n      <td>1</td>\n      <td>train</td>\n      <td>11</td>\n      <td>4</td>\n      <td>8</td>\n      <td>14.0</td>\n      <td>196</td>\n      <td>1</td>\n      <td>1</td>\n      <td>Soda</td>\n      <td>77</td>\n      <td>7</td>\n      <td>beverages</td>\n      <td>soft drinks</td>\n    </tr>\n  </tbody>\n</table>\n</div>",
      "text/plain": "    Unnamed: 0  order_id  user_id eval_set  order_number  order_dow  \\\n0            1   2539329        1    prior             1          2   \n5            6   2398795        1    prior             2          3   \n11          12    473747        1    prior             3          3   \n16          17   2254736        1    prior             4          4   \n21          22    431534        1    prior             5          4   \n29          30   3367565        1    prior             6          2   \n33          34    550135        1    prior             7          1   \n39          40   3108588        1    prior             8          1   \n47          48   2295261        1    prior             9          1   \n50          51   2550362        1    prior            10          4   \n59          60   1187899        1    train            11          4   \n\n    order_hour_of_day  days_since_prior_order  product_id  add_to_cart_order  \\\n0                   8                     NaN         196                  1   \n5                   7                    15.0         196                  1   \n11                 12                    21.0         196                  1   \n16                  7                    29.0         196                  1   \n21                 15                    28.0         196                  1   \n29                  7                    19.0         196                  1   \n33                  9                    20.0         196                  1   \n39                 14                    14.0         196                  2   \n47                 16                     0.0         196                  4   \n50                  8                    30.0         196                  1   \n59                  8                    14.0         196                  1   \n\n    reordered product_name  aisle_id  department_id department        aisle  \n0           0         Soda        77              7  beverages  soft drinks  \n5           1         Soda        77              7  beverages  soft drinks  \n11          1         Soda        77              7  beverages  soft drinks  \n16          1         Soda        77              7  beverages  soft drinks  \n21          1         Soda        77              7  beverages  soft drinks  \n29          1         Soda        77              7  beverages  soft drinks  \n33          1         Soda        77              7  beverages  soft drinks  \n39          1         Soda        77              7  beverages  soft drinks  \n47          1         Soda        77              7  beverages  soft drinks  \n50          1         Soda        77              7  beverages  soft drinks  \n59          1         Soda        77              7  beverages  soft drinks  "
     },
     "execution_count": 9,
     "metadata": {},
     "output_type": "execute_result"
    }
   ],
   "source": [
    "data_limited[(data_limited.user_id == 1) & (data_limited.product_id == 196)]"
   ]
  },
  {
   "cell_type": "code",
   "execution_count": 13,
   "metadata": {},
   "outputs": [],
   "source": [
    "# converting the matrix back to a table for further processing\n",
    "v_table = matrix.stack().reset_index()\n",
    "v_table.columns = ['user_id','product_id','amount']\n",
    "\n",
    "# remove rows with amount = 0\n",
    "v_table = v_table[(v_table.amount != 0)]"
   ]
  },
  {
   "cell_type": "code",
   "execution_count": null,
   "metadata": {},
   "outputs": [],
   "source": []
  }
 ],
 "metadata": {
  "kernelspec": {
   "display_name": "Python 3",
   "language": "python",
   "name": "python3"
  },
  "language_info": {
   "codemirror_mode": {
    "name": "ipython",
    "version": 3
   },
   "file_extension": ".py",
   "mimetype": "text/x-python",
   "name": "python",
   "nbconvert_exporter": "python",
   "pygments_lexer": "ipython3",
   "version": "3.8.0-final"
  },
  "pycharm": {
   "stem_cell": {
    "cell_type": "raw",
    "source": [],
    "metadata": {
     "collapsed": false
    }
   }
  }
 },
 "nbformat": 4,
 "nbformat_minor": 2
}